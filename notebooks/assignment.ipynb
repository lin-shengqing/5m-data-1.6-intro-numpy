{
 "cells": [
  {
   "cell_type": "code",
   "execution_count": 1,
   "id": "ec7cab45",
   "metadata": {},
   "outputs": [],
   "source": [
    "import numpy as np"
   ]
  },
  {
   "cell_type": "markdown",
   "id": "a3a8bb9d",
   "metadata": {},
   "source": [
    "Question 1\n",
    "Given the following numpy array:"
   ]
  },
  {
   "cell_type": "code",
   "execution_count": 2,
   "id": "ded10d48",
   "metadata": {},
   "outputs": [],
   "source": [
    "arr = np.array([1, 2, 3, 4, 5])"
   ]
  },
  {
   "cell_type": "markdown",
   "id": "64cff861",
   "metadata": {},
   "source": [
    "Write a Python code to multiply each element in the array by 2.\n",
    "Answer:"
   ]
  },
  {
   "cell_type": "code",
   "execution_count": 3,
   "id": "1723125c",
   "metadata": {},
   "outputs": [
    {
     "data": {
      "text/plain": [
       "array([ 2,  4,  6,  8, 10])"
      ]
     },
     "execution_count": 3,
     "metadata": {},
     "output_type": "execute_result"
    }
   ],
   "source": [
    "arr * 2"
   ]
  },
  {
   "cell_type": "markdown",
   "id": "05afbcf9",
   "metadata": {},
   "source": [
    "Question 2\n",
    "Given the following 2D numpy array:"
   ]
  },
  {
   "cell_type": "code",
   "execution_count": 4,
   "id": "5487efc5",
   "metadata": {},
   "outputs": [],
   "source": [
    "arr = np.array([[1, 2, 3], [4, 5, 6], [7, 8, 9]])"
   ]
  },
  {
   "cell_type": "markdown",
   "id": "962fa4df",
   "metadata": {},
   "source": [
    "Write a Python code to select the second row of the array.\n",
    "\n",
    "Answer:"
   ]
  },
  {
   "cell_type": "code",
   "execution_count": 5,
   "id": "88d86d93",
   "metadata": {},
   "outputs": [
    {
     "data": {
      "text/plain": [
       "array([[4, 5, 6]])"
      ]
     },
     "execution_count": 5,
     "metadata": {},
     "output_type": "execute_result"
    }
   ],
   "source": [
    "arr[1:2]"
   ]
  },
  {
   "cell_type": "markdown",
   "id": "5a33b6e8",
   "metadata": {},
   "source": [
    "Question 3\n",
    "Create a 2D numpy array of shape (5, 5) filled with the number 1.\n",
    "\n",
    "Answer:"
   ]
  },
  {
   "cell_type": "code",
   "execution_count": 7,
   "id": "78153dcc",
   "metadata": {},
   "outputs": [
    {
     "data": {
      "text/plain": [
       "array([[1., 1., 1., 1., 1.],\n",
       "       [1., 1., 1., 1., 1.],\n",
       "       [1., 1., 1., 1., 1.],\n",
       "       [1., 1., 1., 1., 1.],\n",
       "       [1., 1., 1., 1., 1.]])"
      ]
     },
     "execution_count": 7,
     "metadata": {},
     "output_type": "execute_result"
    }
   ],
   "source": [
    "np.ones((5,5))"
   ]
  },
  {
   "cell_type": "markdown",
   "id": "c94bcf1e",
   "metadata": {},
   "source": [
    "Question 4\n",
    "Given the following 2D numpy array:"
   ]
  },
  {
   "cell_type": "code",
   "execution_count": 8,
   "id": "33a3b260",
   "metadata": {},
   "outputs": [],
   "source": [
    "arr = np.array([[1, 2, 3], [4, 5, 6], [7, 8, 9]])"
   ]
  },
  {
   "cell_type": "markdown",
   "id": "de9eca6e",
   "metadata": {},
   "source": [
    "Write a Python code to calculate the sum of all the elements in each row.\n",
    "\n",
    "Answer:"
   ]
  },
  {
   "cell_type": "code",
   "execution_count": null,
   "id": "9cc6628d",
   "metadata": {},
   "outputs": [
    {
     "data": {
      "text/plain": [
       "45"
      ]
     },
     "execution_count": 9,
     "metadata": {},
     "output_type": "execute_result"
    }
   ],
   "source": [
    "arr.sum(arr, axis=1)"
   ]
  },
  {
   "cell_type": "markdown",
   "id": "4a9a693c",
   "metadata": {},
   "source": [
    "Question 5\n",
    "Given the following 2D numpy array:"
   ]
  },
  {
   "cell_type": "code",
   "execution_count": null,
   "id": "850e9fce",
   "metadata": {},
   "outputs": [],
   "source": [
    "arr = np.array([[1, 2, 3], [4, 5, 6], [7, 8, 9]])"
   ]
  },
  {
   "cell_type": "markdown",
   "id": "4b538803",
   "metadata": {},
   "source": [
    "Write a Python code to calculate the average of all the elements.\n",
    "\n",
    "Answer:"
   ]
  },
  {
   "cell_type": "code",
   "execution_count": null,
   "id": "a65852f1",
   "metadata": {},
   "outputs": [],
   "source": []
  }
 ],
 "metadata": {
  "kernelspec": {
   "display_name": "pds",
   "language": "python",
   "name": "python3"
  },
  "language_info": {
   "codemirror_mode": {
    "name": "ipython",
    "version": 3
   },
   "file_extension": ".py",
   "mimetype": "text/x-python",
   "name": "python",
   "nbconvert_exporter": "python",
   "pygments_lexer": "ipython3",
   "version": "3.10.19"
  }
 },
 "nbformat": 4,
 "nbformat_minor": 5
}
